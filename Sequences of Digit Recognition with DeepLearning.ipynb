{
 "cells": [
  {
   "cell_type": "markdown",
   "metadata": {},
   "source": [
    "# 机器学习工程师纳米学位\n",
    "## 深度学习\n",
    "## 项目：搭建一个数字识别项目\n",
    "\n"
   ]
  },
  {
   "cell_type": "markdown",
   "metadata": {},
   "source": [
    "## 连接 mnist 的字符来合成数据\n",
    "\n",
    "你可以通过连接[MNIST](http://yann.lecun.com/exdb/mnist/)的字符来合成数据来训练这个模型。为了快速导入数据集，我们可以使用 [Keras Datasets](https://keras.io/datasets/#mnist-database-of-handwritten-digits) [中文文档](http://keras-cn.readthedocs.io/en/latest/other/datasets/#mnist)。"
   ]
  },
  {
   "cell_type": "markdown",
   "metadata": {},
   "source": [
    "### 载入 mnist"
   ]
  },
  {
   "cell_type": "code",
   "execution_count": 20,
   "metadata": {},
   "outputs": [],
   "source": [
    "import numpy as np\n",
    "def load_data(path='C:/Users/tianjiayang/digit recognition with Statistical learning and Deep Learning/mnist.npz'):\n",
    "    \"\"\"Loads the MNIST d1ataset.\n",
    "    # Arguments\n",
    "        path: path where to cache the dataset locally\n",
    "            (relative to ~/.keras/datasets).\n",
    "    # Returns\n",
    "        Tuple of Numpy arrays: `(x_train, y_train), (x_test, y_test)`.\n",
    "    path = get_file(path,\n",
    "                    origin='https://s3.amazonaws.com/img-datasets/mnist.npz',\n",
    "                    file_hash='8a61469f7ea1b51cbae51d4f78837e45')\n",
    "    \"\"\"\n",
    "    f = np.load(path)\n",
    "    x_train, y_train = f['x_train'], f['y_train']\n",
    "    x_test, y_test = f['x_test'], f['y_test']\n",
    "    f.close()\n",
    "    return (x_train, y_train), (x_test, y_test)\n",
    " \n",
    "# the data, split between train and test sets\n",
    "(X_raw, y_raw), (X_raw_test, y_raw_test) = load_data()"
   ]
  },
  {
   "cell_type": "code",
   "execution_count": 21,
   "metadata": {},
   "outputs": [],
   "source": [
    "from keras.datasets import mnist\n",
    "\n",
    "# (X_raw, y_raw), (X_raw_test, y_raw_test) = mnist.load_data()\n",
    "\n",
    "n_train, n_test = X_raw.shape[0], X_raw_test.shape[0]"
   ]
  },
  {
   "cell_type": "code",
   "execution_count": 22,
   "metadata": {},
   "outputs": [
    {
     "data": {
      "text/plain": [
       "(60000, 28, 28)"
      ]
     },
     "execution_count": 22,
     "metadata": {},
     "output_type": "execute_result"
    }
   ],
   "source": [
    "X_raw.shape"
   ]
  },
  {
   "cell_type": "code",
   "execution_count": 23,
   "metadata": {},
   "outputs": [
    {
     "data": {
      "text/plain": [
       "(10000, 28, 28)"
      ]
     },
     "execution_count": 23,
     "metadata": {},
     "output_type": "execute_result"
    }
   ],
   "source": [
    "X_raw_test.shape"
   ]
  },
  {
   "cell_type": "code",
   "execution_count": 24,
   "metadata": {},
   "outputs": [
    {
     "data": {
      "text/plain": [
       "(60000,)"
      ]
     },
     "execution_count": 24,
     "metadata": {},
     "output_type": "execute_result"
    }
   ],
   "source": [
    "y_raw.shape"
   ]
  },
  {
   "cell_type": "markdown",
   "metadata": {},
   "source": [
    "### 可视化 mnist\n",
    "\n",
    "我们可以通过 matplotlib 来可视化我们的原始数据集。"
   ]
  },
  {
   "cell_type": "code",
   "execution_count": 25,
   "metadata": {},
   "outputs": [
    {
     "data": {
      "image/png": "[encoded data removed]",
      "text/plain": [
       "<Figure size 432x288 with 15 Axes>"
      ]
     },
     "metadata": {
      "image/png": {
       "height": 257,
       "width": 370
      }
     },
     "output_type": "display_data"
    }
   ],
   "source": [
    "import matplotlib.pyplot as plt\n",
    "import random\n",
    "\n",
    "%matplotlib inline\n",
    "%config InlineBackend.figure_format = 'retina'\n",
    "\n",
    "for i in range(15):\n",
    "    plt.subplot(3, 5, i+1)\n",
    "    index = random.randint(0, n_train-1)\n",
    "    plt.title(str(y_raw[index]))\n",
    "    plt.imshow(X_raw[index], cmap='gray')\n",
    "    plt.axis('off')"
   ]
  },
  {
   "cell_type": "markdown",
   "metadata": {},
   "source": [
    "### 练习：合成数据\n",
    "\n",
    "你需要随机取随机张图片，然后将它们拼接成新的图片。\n",
    "\n",
    "你需要设置20%的数据作为验证集，以保证模型没有过拟合。"
   ]
  },
  {
   "cell_type": "code",
   "execution_count": 41,
   "metadata": {},
   "outputs": [],
   "source": [
    "import numpy as np\n",
    "from sklearn.model_selection import train_test_split\n",
    "\n",
    "n_class, n_len, width, height = 11, 5, 28, 28\n",
    "\n",
    "def generate_dataset(X, y):\n",
    "    X_len = X.shape[0]\n",
    "    X_gen = np.zeros((X_len, height, width*n_len, 1), dtype=np.uint8)\n",
    "    y_gen = [np.zeros((X_len, n_class), dtype=np.uint8) for i in range(n_len)]\n",
    "    # TODO: 随机取1~5个数字，并拼接成新的图片\n",
    "    for i in range(X_len):\n",
    "        rand_len = random.randint(1, 5)\n",
    "        lis = list()\n",
    "        for j in range(0, rand_len):\n",
    "            index = random.randint(0, X_len - 1)\n",
    "            # 将对应的y置1\n",
    "            y_gen[j][i][y[index]] = 1\n",
    "            lis.append(X[index].T)\n",
    "        # 其余位取空白    \n",
    "        for m in range(rand_len, 5):\n",
    "            # 将对应的y置1\n",
    "            y_gen[m][i][10] = 1\n",
    "            lis.append(np.zeros((28, 28),dtype=np.uint8))\n",
    "        lis = np.array(lis).reshape(140,28).T\n",
    "     \n",
    "        X_gen[i] = lis.reshape(28,140,1)\n",
    "        \n",
    "    return X_gen, y_gen\n",
    "X_raw_train, X_raw_valid, y_raw_train, y_raw_valid = train_test_split(X_raw, y_raw, test_size=0.2, random_state=50)\n",
    "\n",
    "X_train, y_train = generate_dataset(X_raw_train, y_raw_train)\n",
    "X_valid, y_valid = generate_dataset(X_raw_valid, y_raw_valid)\n",
    "X_test, y_test = generate_dataset(X_raw_test, y_raw_test)"
   ]
  },
  {
   "cell_type": "code",
   "execution_count": 42,
   "metadata": {},
   "outputs": [
    {
     "name": "stdout",
     "output_type": "stream",
     "text": [
      "(48000, 28, 140, 1)\n"
     ]
    }
   ],
   "source": [
    "print(X_train.shape)"
   ]
  },
  {
   "cell_type": "markdown",
   "metadata": {},
   "source": [
    "设定一个list长度为5，随机取n个数为有数字的类型，其余数字为空白，标记为第11类（编号为10），实现了左对齐的需求。根据Reviewer的提示，lis的每个数是原矩阵的转置，拼成一个140*28的矩阵后整体转置，作为X_gen的第i个数，直接赋给X_gen[i]，运行识别原来快些，lis想不出怎么去除了，似乎还得append。\n",
    "\n",
    "训练集是用来训练模型的，验证集是用来对训练的模型进行进一步调参优化，如果使用测试集验证，网络就会记住测试集，容易使模型过拟合，测试集用来测试模型表现。m"
   ]
  },
  {
   "cell_type": "code",
   "execution_count": 43,
   "metadata": {},
   "outputs": [
    {
     "data": {
      "image/png": "[encoded data removed]",
      "text/plain": [
       "<Figure size 432x288 with 15 Axes>"
      ]
     },
     "metadata": {
      "image/png": {
       "height": 246,
       "width": 370
      }
     },
     "output_type": "display_data"
    }
   ],
   "source": [
    "# 显示生成的图片\n",
    "for i in range(15):\n",
    "    plt.subplot(5, 3, i+1)\n",
    "    index = random.randint(0, n_test-1)\n",
    "    title = ''\n",
    "    for j in range(n_len):\n",
    "        title += str(np.argmax(y_test[j][index])) + ','\n",
    "    \n",
    "    plt.title(title)\n",
    "    plt.imshow(X_test[index][:,:,0], cmap='gray')\n",
    "    plt.axis('off')"
   ]
  },
  {
   "cell_type": "markdown",
   "metadata": {},
   "source": [
    "### 问题 1\n",
    "_你是如何合成数据集的？为什么要分训练集，验证集和测试集？_\n",
    "\n",
    "**回答：**\n",
    "随机取1~5个数字，并拼接成新的图片，缺少的图片用空白替代，空白对应的标志是10\n",
    "\n",
    "训练集自不必说，验证集为了调参；测试集为了测试最终性能（因为模型经过验证集多次验证会不由自主的向验证集偏向，等于是一种data snooping）"
   ]
  },
  {
   "cell_type": "markdown",
   "metadata": {},
   "source": [
    "### 练习：设计并测试一个模型架构\n",
    "\n",
    "设计并实现一个能够识别数字序列的深度学习模型。为了产生用于测试的合成数字序列，你可以进行如下的设置：比如，你可以限制一个数据序列最多五个数字，并在你的深度网络上使用五个分类器。同时，你有必要准备一个额外的“空白”的字符，以处理相对较短的数字序列。\n",
    "\n",
    "在思考这个问题的时候有很多方面可以考虑：\n",
    "\n",
    "- 你的模型可以基于深度神经网络或者是卷积神经网络。\n",
    "- 你可以尝试是否在每个分类器间共享权值。\n",
    "- 你还可以在深度神经网络中使用循环网络来替换其中的分类层，并且将数字序列里的数字一个一个地输出。\n",
    "\n",
    "在使用 Keras 搭建模型的时候，你可以使用 [函数式模型 API](http://keras-cn.readthedocs.io/en/latest/models/model/) 的方式来搭建多输出模型。"
   ]
  },
  {
   "cell_type": "code",
   "execution_count": 44,
   "metadata": {
    "scrolled": false
   },
   "outputs": [
    {
     "name": "stdout",
     "output_type": "stream",
     "text": [
      "__________________________________________________________________________________________________\n",
      "Layer (type)                    Output Shape         Param #     Connected to                     \n",
      "==================================================================================================\n",
      "input_1 (InputLayer)            (None, 28, 140, 1)   0                                            \n",
      "__________________________________________________________________________________________________\n",
      "conv2d_21 (Conv2D)              (None, 28, 140, 32)  832         input_1[0][0]                    \n",
      "__________________________________________________________________________________________________\n",
      "max_pooling2d_10 (MaxPooling2D) (None, 14, 70, 32)   0           conv2d_21[0][0]                  \n",
      "__________________________________________________________________________________________________\n",
      "conv2d_22 (Conv2D)              (None, 14, 70, 10)   2890        max_pooling2d_10[0][0]           \n",
      "__________________________________________________________________________________________________\n",
      "max_pooling2d_11 (MaxPooling2D) (None, 7, 35, 10)    0           conv2d_22[0][0]                  \n",
      "__________________________________________________________________________________________________\n",
      "flatten_3 (Flatten)             (None, 2450)         0           max_pooling2d_11[0][0]           \n",
      "__________________________________________________________________________________________________\n",
      "dense_1 (Dense)                 (None, 15)           36765       flatten_3[0][0]                  \n",
      "__________________________________________________________________________________________________\n",
      "dense_3 (Dense)                 (None, 15)           36765       flatten_3[0][0]                  \n",
      "__________________________________________________________________________________________________\n",
      "dense_5 (Dense)                 (None, 15)           36765       flatten_3[0][0]                  \n",
      "__________________________________________________________________________________________________\n",
      "dense_7 (Dense)                 (None, 15)           36765       flatten_3[0][0]                  \n",
      "__________________________________________________________________________________________________\n",
      "dense_9 (Dense)                 (None, 15)           36765       flatten_3[0][0]                  \n",
      "__________________________________________________________________________________________________\n",
      "dense_2 (Dense)                 (None, 11)           176         dense_1[0][0]                    \n",
      "__________________________________________________________________________________________________\n",
      "dense_4 (Dense)                 (None, 11)           176         dense_3[0][0]                    \n",
      "__________________________________________________________________________________________________\n",
      "dense_6 (Dense)                 (None, 11)           176         dense_5[0][0]                    \n",
      "__________________________________________________________________________________________________\n",
      "dense_8 (Dense)                 (None, 11)           176         dense_7[0][0]                    \n",
      "__________________________________________________________________________________________________\n",
      "dense_10 (Dense)                (None, 11)           176         dense_9[0][0]                    \n",
      "==================================================================================================\n",
      "Total params: 188,427\n",
      "Trainable params: 188,427\n",
      "Non-trainable params: 0\n",
      "__________________________________________________________________________________________________\n"
     ]
    }
   ],
   "source": [
    "from keras.models import Model\n",
    "from keras.layers import *\n",
    "import tensorflow as tf\n",
    "\n",
    "# This returns a tensor\n",
    "inputs = Input(shape=(28, 140, 1))\n",
    "\n",
    "conv_11 = Conv2D(filters= 32, kernel_size=(5,5), padding='Same', activation='relu')(inputs)\n",
    "max_pool_11 = MaxPool2D(pool_size=(2,2))(conv_11)\n",
    "conv_12 = Conv2D(filters= 10, kernel_size=(3,3), padding='Same', activation='relu')(max_pool_11)\n",
    "max_pool_12 = MaxPool2D(pool_size=(2,2), strides=(2,2))(conv_12)\n",
    "flatten11 = Flatten()(max_pool_12)\n",
    "hidden11 = Dense(15, activation='relu')(flatten11)\n",
    "prediction1 = Dense(11, activation='softmax')(hidden11)\n",
    "\n",
    "# conv_21 = Conv2D(filters= 32, kernel_size=(5,5), padding='Same', activation='relu')(inputs)\n",
    "# max_pool_21 = MaxPool2D(pool_size=(2,2))(conv_21)\n",
    "# conv_22 = Conv2D(filters= 10, kernel_size=(3,3), padding='Same', activation='relu')(max_pool_21)\n",
    "# max_pool_22 = MaxPool2D(pool_size=(2,2), strides=(2,2))(conv_22)\n",
    "# flatten21 = Flatten()(max_pool_22)\n",
    "hidden21 = Dense(15, activation='relu')(flatten11)\n",
    "prediction2 = Dense(11, activation='softmax')(hidden21)\n",
    "\n",
    "# conv_31 = Conv2D(filters= 32, kernel_size=(5,5), padding='Same', activation='relu')(inputs)\n",
    "# max_pool_31 = MaxPool2D(pool_size=(2,2))(conv_31)\n",
    "# conv_32 = Conv2D(filters= 10, kernel_size=(3,3), padding='Same', activation='relu')(max_pool_31)\n",
    "# max_pool_32 = MaxPool2D(pool_size=(2,2), strides=(2,2))(conv_32)\n",
    "# flatten31 = Flatten()(max_pool_32)\n",
    "hidden31 = Dense(15, activation='relu')(flatten11)\n",
    "prediction3 = Dense(11, activation='softmax')(hidden31)\n",
    "\n",
    "# conv_41 = Conv2D(filters= 32, kernel_size=(5,5), padding='Same', activation='relu')(inputs)\n",
    "# max_pool_41 = MaxPool2D(pool_size=(2,2))(conv_41)\n",
    "# conv_42 = Conv2D(filters= 10, kernel_size=(3,3), padding='Same', activation='relu')(max_pool_41)\n",
    "# max_pool_42 = MaxPool2D(pool_size=(2,2), strides=(2,2))(conv_42)\n",
    "# flatten41 = Flatten()(max_pool_42)\n",
    "hidden41 = Dense(15, activation='relu')(flatten11)\n",
    "prediction4 = Dense(11, activation='softmax')(hidden41)\n",
    "\n",
    "# conv_51 = Conv2D(filters= 32, kernel_size=(5,5), padding='Same', activation='relu')(inputs)\n",
    "# max_pool_51 = MaxPool2D(pool_size=(2,2))(conv_51)\n",
    "# conv_52 = Conv2D(filters= 10, kernel_size=(3,3), padding='Same', activation='relu')(max_pool_51)\n",
    "# max_pool_52 = MaxPool2D(pool_size=(2,2), strides=(2,2))(conv_52)\n",
    "# flatten51 = Flatten()(max_pool_52)\n",
    "hidden51 = Dense(15, activation='relu')(flatten11)\n",
    "prediction5 = Dense(11, activation='softmax')(hidden51)\n",
    "\n",
    "model = Model(inputs=inputs, outputs=[prediction1,prediction2,prediction3,prediction4,prediction5])\n",
    "# model = Model(inputs=inputs, outputs=prediction1)\n",
    "\n",
    "model.compile(optimizer='rmsprop',\n",
    "              loss='categorical_crossentropy',\n",
    "              metrics=['accuracy'])\n",
    "model.summary()"
   ]
  },
  {
   "cell_type": "markdown",
   "metadata": {},
   "source": [
    "### 问题 2\n",
    "_你为解决这个问题采取了什么技术？请详细介绍你使用的技术。_\n",
    "\n",
    "**回答：** \n",
    "回答：使用了卷积神经网络。卷积神经网络虽然运行慢，但是在识别图像中表现很好，因为它可以用到相邻像素间的信息，这是深度学习网络忽略掉的信息。卷积神经网络的原理是通过卷积核在图片上做卷积，学习得到特征，最底层是简单的线条，之后图形逐层复杂，多个卷积核在图片上做卷积，可以增加输出节点的深度，越深，携带的信息越多，当然，也要根据不同的情况进行调参，比如调整学习率、卷积核、stride、激活函数、损失函数、迭代次数、是否dropout等等。\n",
    "\n",
    "补充：\n",
    "\n",
    "Softmax：对于多分类问题，softmax函数可以得到各个分类的概率值。\n",
    "\n",
    "Activation function：激活函数是为了给网络加入非线性因素，如果没有激活函数，网络就是一个线性分类器，y=wx+b，如果这个y值通过了激活函数，结果就不是线性的了。这里用了relu激活函数， f(x)=max(0,x)，优点是得到的SGD的收敛速度会比 sigmoid快很多，相比于 sigmoid/tanh需要计算指数等，计算复杂度高，ReLU 只需要一个阈值就可以得到激活值，缺点是ReLU在训练的时候很”脆弱”，一不小心有可能导致神经元”坏死”，优缺点摘自几种常见的激活函数\n",
    "\n",
    "dropout：为了避免大型深度网络过拟合，会在训练时使用dropout来丢掉一些神经元，这样做可以提高模型的表现。\n",
    "\n",
    "rmsprop：一种寻找损失函数最小值的优化方法。优化方法总结中提到RMSprop是Geoff Hinton提出的一种自适应学习率方法。Adagrad会累加之前所有的梯度平方，而RMSprop仅仅是计算对应的平均值，因此可缓解Adagrad算法学习率下降较快的问题。\n",
    "\n",
    "categorical_crossentropy：一种损失函数，也成多类对数损失，使用该目标函数时，需要将标签转化为形如(nb_samples, nb_classes)的二值序列，摘自keras学习笔记03——常见重要模块"
   ]
  },
  {
   "cell_type": "markdown",
   "metadata": {},
   "source": [
    "问题 3¶\n",
    "\n",
    "你最终的模型架构是什么样的？（什么类型的模型，层数，大小, 如何连接等）\n",
    "\n",
    "\n",
    "回答：使用了卷积神经网络的经典模型，一共6层，卷积层（卷积核55，激活函数relu，padding是Same，32个卷积核）->最大池化层（22）->卷积层（33，relu，Same，10）->最大池化层（22，strde2*2）->flatten->hidden（15）），本来应该还有一个隐藏层，但是发现没有表现也很好，为了运行速度，所以就去掉了。五个分类器从过了卷积层开始，因为经过无数次试验，不用从一开始input就分成5个，可以用卷积层学到特征，然后最后深度学习网络分成五个去识别。\n",
    "\n",
    "\n",
    "这里是疑问： 开始受笔记本电脑性能限制，没用gpu，训练上述一模一样的网络，每个分类器的accuracy是0.1，所以我又不断调整参数以及网络结构，正确率都是0.1左右，而我换成gpu，为什么performance会好？还有依然是cpu上试验，我换成上述代码中取消注释后的网络结构，即从inputs就开始分成5个分类器的网络后，只有1个accuracy是0.9+，其他都是0.1以下，这是为什么？感觉就像一样的老师一样的东西，只有一个学生聪明，其他都是傻子。然后我又换成只有1个分类器，识别第一位，accuracy是0.9+，识别其他位正确率也很高，只要是单独识别一位就好，这是为什么？难道5个独立的分类器一起训练会互相干扰？所有cpu失败的网络在gpu上一跑，performance都特别好，感觉花了好几天时间调调网络结构，不如换一块gpu……"
   ]
  },
  {
   "cell_type": "markdown",
   "metadata": {},
   "source": [
    "### 练习：训练你的网络模型\n",
    "\n",
    "训练你的模型时，需要设置训练集和验证集。"
   ]
  },
  {
   "cell_type": "code",
   "execution_count": 47,
   "metadata": {},
   "outputs": [
    {
     "name": "stdout",
     "output_type": "stream",
     "text": [
      "Train on 48000 samples, validate on 12000 samples\n",
      "Epoch 1/20\n",
      "48000/48000 [==============================] - 162s 3ms/step - loss: 2.7771 - dense_2_loss: 0.6986 - dense_4_loss: 0.6181 - dense_6_loss: 0.6244 - dense_8_loss: 0.4774 - dense_10_loss: 0.3587 - dense_2_acc: 0.7892 - dense_4_acc: 0.8108 - dense_6_acc: 0.8094 - dense_8_acc: 0.8528 - dense_10_acc: 0.9050 - val_loss: 0.5949 - val_dense_2_loss: 0.1600 - val_dense_4_loss: 0.1267 - val_dense_6_loss: 0.1258 - val_dense_8_loss: 0.0847 - val_dense_10_loss: 0.0976 - val_dense_2_acc: 0.9518 - val_dense_4_acc: 0.9612 - val_dense_6_acc: 0.9612 - val_dense_8_acc: 0.9745 - val_dense_10_acc: 0.9713\n",
      "Epoch 2/20\n",
      "48000/48000 [==============================] - 164s 3ms/step - loss: 0.4029 - dense_2_loss: 0.1002 - dense_4_loss: 0.0849 - dense_6_loss: 0.0848 - dense_8_loss: 0.0675 - dense_10_loss: 0.0656 - dense_2_acc: 0.9701 - dense_4_acc: 0.9749 - dense_6_acc: 0.9764 - dense_8_acc: 0.9803 - dense_10_acc: 0.9826 - val_loss: 0.4027 - val_dense_2_loss: 0.1062 - val_dense_4_loss: 0.1085 - val_dense_6_loss: 0.0779 - val_dense_8_loss: 0.0574 - val_dense_10_loss: 0.0526 - val_dense_2_acc: 0.9707 - val_dense_4_acc: 0.9688 - val_dense_6_acc: 0.9763 - val_dense_8_acc: 0.9828 - val_dense_10_acc: 0.9853\n",
      "Epoch 3/20\n",
      "48000/48000 [==============================] - 168s 3ms/step - loss: 0.2171 - dense_2_loss: 0.0545 - dense_4_loss: 0.0477 - dense_6_loss: 0.0457 - dense_8_loss: 0.0356 - dense_10_loss: 0.0336 - dense_2_acc: 0.9829 - dense_4_acc: 0.9858 - dense_6_acc: 0.9865 - dense_8_acc: 0.9891 - dense_10_acc: 0.9905 - val_loss: 0.4219 - val_dense_2_loss: 0.1240 - val_dense_4_loss: 0.1147 - val_dense_6_loss: 0.0706 - val_dense_8_loss: 0.0652 - val_dense_10_loss: 0.0474 - val_dense_2_acc: 0.9715 - val_dense_4_acc: 0.9737 - val_dense_6_acc: 0.9815 - val_dense_8_acc: 0.9815 - val_dense_10_acc: 0.9879\n",
      "Epoch 4/20\n",
      "48000/48000 [==============================] - 176s 4ms/step - loss: 0.1409 - dense_2_loss: 0.0375 - dense_4_loss: 0.0295 - dense_6_loss: 0.0315 - dense_8_loss: 0.0219 - dense_10_loss: 0.0205 - dense_2_acc: 0.9885 - dense_4_acc: 0.9903 - dense_6_acc: 0.9908 - dense_8_acc: 0.9932 - dense_10_acc: 0.9938 - val_loss: 0.3825 - val_dense_2_loss: 0.1140 - val_dense_4_loss: 0.1028 - val_dense_6_loss: 0.0598 - val_dense_8_loss: 0.0530 - val_dense_10_loss: 0.0530 - val_dense_2_acc: 0.9738 - val_dense_4_acc: 0.9757 - val_dense_6_acc: 0.9847 - val_dense_8_acc: 0.9859 - val_dense_10_acc: 0.9858\n",
      "Epoch 5/20\n",
      "48000/48000 [==============================] - 163s 3ms/step - loss: 0.1002 - dense_2_loss: 0.0274 - dense_4_loss: 0.0211 - dense_6_loss: 0.0204 - dense_8_loss: 0.0175 - dense_10_loss: 0.0137 - dense_2_acc: 0.9918 - dense_4_acc: 0.9934 - dense_6_acc: 0.9935 - dense_8_acc: 0.9948 - dense_10_acc: 0.9959 - val_loss: 0.5219 - val_dense_2_loss: 0.1546 - val_dense_4_loss: 0.1405 - val_dense_6_loss: 0.0921 - val_dense_8_loss: 0.0850 - val_dense_10_loss: 0.0496 - val_dense_2_acc: 0.9672 - val_dense_4_acc: 0.9716 - val_dense_6_acc: 0.9799 - val_dense_8_acc: 0.9825 - val_dense_10_acc: 0.9901\n",
      "Epoch 6/20\n",
      "48000/48000 [==============================] - 157s 3ms/step - loss: 0.0839 - dense_2_loss: 0.0226 - dense_4_loss: 0.0176 - dense_6_loss: 0.0190 - dense_8_loss: 0.0135 - dense_10_loss: 0.0112 - dense_2_acc: 0.9929 - dense_4_acc: 0.9946 - dense_6_acc: 0.9944 - dense_8_acc: 0.9962 - dense_10_acc: 0.9967 - val_loss: 0.4265 - val_dense_2_loss: 0.1204 - val_dense_4_loss: 0.1230 - val_dense_6_loss: 0.0764 - val_dense_8_loss: 0.0575 - val_dense_10_loss: 0.0492 - val_dense_2_acc: 0.9767 - val_dense_4_acc: 0.9779 - val_dense_6_acc: 0.9853 - val_dense_8_acc: 0.9883 - val_dense_10_acc: 0.9906\n",
      "Epoch 7/20\n",
      "48000/48000 [==============================] - 157s 3ms/step - loss: 0.0658 - dense_2_loss: 0.0205 - dense_4_loss: 0.0132 - dense_6_loss: 0.0134 - dense_8_loss: 0.0114 - dense_10_loss: 0.0072 - dense_2_acc: 0.9941 - dense_4_acc: 0.9959 - dense_6_acc: 0.9961 - dense_8_acc: 0.9966 - dense_10_acc: 0.9976 - val_loss: 0.4467 - val_dense_2_loss: 0.1335 - val_dense_4_loss: 0.1317 - val_dense_6_loss: 0.0730 - val_dense_8_loss: 0.0669 - val_dense_10_loss: 0.0416 - val_dense_2_acc: 0.9768 - val_dense_4_acc: 0.9763 - val_dense_6_acc: 0.9862 - val_dense_8_acc: 0.9870 - val_dense_10_acc: 0.9924\n",
      "Epoch 8/20\n",
      "48000/48000 [==============================] - 158s 3ms/step - loss: 0.0609 - dense_2_loss: 0.0171 - dense_4_loss: 0.0152 - dense_6_loss: 0.0131 - dense_8_loss: 0.0085 - dense_10_loss: 0.0070 - dense_2_acc: 0.9950 - dense_4_acc: 0.9955 - dense_6_acc: 0.9960 - dense_8_acc: 0.9976 - dense_10_acc: 0.9979 - val_loss: 0.4933 - val_dense_2_loss: 0.1519 - val_dense_4_loss: 0.1299 - val_dense_6_loss: 0.0911 - val_dense_8_loss: 0.0717 - val_dense_10_loss: 0.0487 - val_dense_2_acc: 0.9755 - val_dense_4_acc: 0.9790 - val_dense_6_acc: 0.9853 - val_dense_8_acc: 0.9884 - val_dense_10_acc: 0.9918\n",
      "\n",
      "Epoch 00008: ReduceLROnPlateau reducing learning rate to 0.000800000037997961.\n",
      "Epoch 9/20\n",
      "48000/48000 [==============================] - 157s 3ms/step - loss: 0.0338 - dense_2_loss: 0.0105 - dense_4_loss: 0.0082 - dense_6_loss: 0.0073 - dense_8_loss: 0.0043 - dense_10_loss: 0.0035 - dense_2_acc: 0.9968 - dense_4_acc: 0.9975 - dense_6_acc: 0.9978 - dense_8_acc: 0.9986 - dense_10_acc: 0.9989 - val_loss: 0.5093 - val_dense_2_loss: 0.1389 - val_dense_4_loss: 0.1428 - val_dense_6_loss: 0.0879 - val_dense_8_loss: 0.0751 - val_dense_10_loss: 0.0645 - val_dense_2_acc: 0.9778 - val_dense_4_acc: 0.9822 - val_dense_6_acc: 0.9867 - val_dense_8_acc: 0.9882 - val_dense_10_acc: 0.9901\n",
      "\n",
      "Epoch 00009: ReduceLROnPlateau reducing learning rate to 0.0006400000303983689.\n",
      "Epoch 10/20\n",
      "48000/48000 [==============================] - 157s 3ms/step - loss: 0.0199 - dense_2_loss: 0.0064 - dense_4_loss: 0.0043 - dense_6_loss: 0.0045 - dense_8_loss: 0.0026 - dense_10_loss: 0.0021 - dense_2_acc: 0.9979 - dense_4_acc: 0.9986 - dense_6_acc: 0.9987 - dense_8_acc: 0.9992 - dense_10_acc: 0.9995 - val_loss: 0.5129 - val_dense_2_loss: 0.1411 - val_dense_4_loss: 0.1526 - val_dense_6_loss: 0.0812 - val_dense_8_loss: 0.0774 - val_dense_10_loss: 0.0606 - val_dense_2_acc: 0.9789 - val_dense_4_acc: 0.9799 - val_dense_6_acc: 0.9886 - val_dense_8_acc: 0.9889 - val_dense_10_acc: 0.9917\n",
      "Epoch 11/20\n",
      "48000/48000 [==============================] - 157s 3ms/step - loss: 0.0171 - dense_2_loss: 0.0060 - dense_4_loss: 0.0035 - dense_6_loss: 0.0036 - dense_8_loss: 0.0018 - dense_10_loss: 0.0023 - dense_2_acc: 0.9986 - dense_4_acc: 0.9991 - dense_6_acc: 0.9992 - dense_8_acc: 0.9995 - dense_10_acc: 0.9993 - val_loss: 0.5308 - val_dense_2_loss: 0.1480 - val_dense_4_loss: 0.1616 - val_dense_6_loss: 0.0905 - val_dense_8_loss: 0.0728 - val_dense_10_loss: 0.0578 - val_dense_2_acc: 0.9782 - val_dense_4_acc: 0.9787 - val_dense_6_acc: 0.9870 - val_dense_8_acc: 0.9894 - val_dense_10_acc: 0.9925\n",
      "\n",
      "Epoch 00011: ReduceLROnPlateau reducing learning rate to 0.0005120000336319208.\n",
      "\n",
      "Epoch 00011: ReduceLROnPlateau reducing learning rate to 0.00040960004553198815.\n",
      "Epoch 12/20\n",
      "48000/48000 [==============================] - 156s 3ms/step - loss: 0.0059 - dense_2_loss: 0.0022 - dense_4_loss: 0.0012 - dense_6_loss: 0.0018 - dense_8_loss: 5.3260e-04 - dense_10_loss: 1.8855e-04 - dense_2_acc: 0.9995 - dense_4_acc: 0.9998 - dense_6_acc: 0.9996 - dense_8_acc: 0.9998 - dense_10_acc: 1.0000 - val_loss: 0.5095 - val_dense_2_loss: 0.1367 - val_dense_4_loss: 0.1504 - val_dense_6_loss: 0.0852 - val_dense_8_loss: 0.0762 - val_dense_10_loss: 0.0611 - val_dense_2_acc: 0.9804 - val_dense_4_acc: 0.9816 - val_dense_6_acc: 0.9894 - val_dense_8_acc: 0.9902 - val_dense_10_acc: 0.9926\n",
      "Epoch 13/20\n",
      "48000/48000 [==============================] - 156s 3ms/step - loss: 0.0046 - dense_2_loss: 0.0017 - dense_4_loss: 9.7899e-04 - dense_6_loss: 0.0014 - dense_8_loss: 2.4980e-04 - dense_10_loss: 2.2665e-04 - dense_2_acc: 0.9997 - dense_4_acc: 0.9999 - dense_6_acc: 0.9998 - dense_8_acc: 0.9999 - dense_10_acc: 0.9999 - val_loss: 0.5089 - val_dense_2_loss: 0.1466 - val_dense_4_loss: 0.1431 - val_dense_6_loss: 0.0834 - val_dense_8_loss: 0.0771 - val_dense_10_loss: 0.0588 - val_dense_2_acc: 0.9804 - val_dense_4_acc: 0.9822 - val_dense_6_acc: 0.9894 - val_dense_8_acc: 0.9896 - val_dense_10_acc: 0.9930\n"
     ]
    },
    {
     "name": "stdout",
     "output_type": "stream",
     "text": [
      "\n",
      "Epoch 00013: ReduceLROnPlateau reducing learning rate to 0.00032768002711236477.\n",
      "Epoch 14/20\n",
      "48000/48000 [==============================] - 155s 3ms/step - loss: 0.0028 - dense_2_loss: 8.7927e-04 - dense_4_loss: 7.7660e-04 - dense_6_loss: 0.0010 - dense_8_loss: 1.0052e-04 - dense_10_loss: 1.8548e-05 - dense_2_acc: 0.9998 - dense_4_acc: 0.9999 - dense_6_acc: 0.9999 - dense_8_acc: 1.0000 - dense_10_acc: 1.0000 - val_loss: 0.5394 - val_dense_2_loss: 0.1477 - val_dense_4_loss: 0.1608 - val_dense_6_loss: 0.0925 - val_dense_8_loss: 0.0768 - val_dense_10_loss: 0.0615 - val_dense_2_acc: 0.9800 - val_dense_4_acc: 0.9820 - val_dense_6_acc: 0.9893 - val_dense_8_acc: 0.9908 - val_dense_10_acc: 0.9927\n",
      "\n",
      "Epoch 00014: ReduceLROnPlateau reducing learning rate to 0.0002621440216898918.\n",
      "\n",
      "Epoch 00014: ReduceLROnPlateau reducing learning rate to 0.00020971521735191345.\n",
      "Epoch 15/20\n",
      "48000/48000 [==============================] - 160s 3ms/step - loss: 0.0024 - dense_2_loss: 6.8848e-04 - dense_4_loss: 6.9064e-04 - dense_6_loss: 0.0010 - dense_8_loss: 6.0873e-06 - dense_10_loss: 5.9262e-06 - dense_2_acc: 0.9999 - dense_4_acc: 1.0000 - dense_6_acc: 0.9999 - dense_8_acc: 1.0000 - dense_10_acc: 1.0000 - val_loss: 0.5294 - val_dense_2_loss: 0.1510 - val_dense_4_loss: 0.1599 - val_dense_6_loss: 0.0868 - val_dense_8_loss: 0.0775 - val_dense_10_loss: 0.0542 - val_dense_2_acc: 0.9799 - val_dense_4_acc: 0.9813 - val_dense_6_acc: 0.9900 - val_dense_8_acc: 0.9908 - val_dense_10_acc: 0.9933\n",
      "\n",
      "Epoch 00015: ReduceLROnPlateau reducing learning rate to 0.00016777217388153076.\n",
      "Epoch 16/20\n",
      "48000/48000 [==============================] - 158s 3ms/step - loss: 0.0022 - dense_2_loss: 4.7638e-04 - dense_4_loss: 6.7593e-04 - dense_6_loss: 0.0010 - dense_8_loss: 3.0272e-07 - dense_10_loss: 3.4937e-07 - dense_2_acc: 0.9999 - dense_4_acc: 1.0000 - dense_6_acc: 0.9999 - dense_8_acc: 1.0000 - dense_10_acc: 1.0000 - val_loss: 0.5325 - val_dense_2_loss: 0.1487 - val_dense_4_loss: 0.1626 - val_dense_6_loss: 0.0872 - val_dense_8_loss: 0.0786 - val_dense_10_loss: 0.0554 - val_dense_2_acc: 0.9806 - val_dense_4_acc: 0.9814 - val_dense_6_acc: 0.9894 - val_dense_8_acc: 0.9909 - val_dense_10_acc: 0.9935\n",
      "\n",
      "Epoch 00016: ReduceLROnPlateau reducing learning rate to 0.00013421773910522462.\n",
      "Epoch 17/20\n",
      "48000/48000 [==============================] - 157s 3ms/step - loss: 0.0021 - dense_2_loss: 3.8435e-04 - dense_4_loss: 6.7350e-04 - dense_6_loss: 0.0010 - dense_8_loss: 1.4511e-07 - dense_10_loss: 1.6276e-07 - dense_2_acc: 1.0000 - dense_4_acc: 1.0000 - dense_6_acc: 0.9999 - dense_8_acc: 1.0000 - dense_10_acc: 1.0000 - val_loss: 0.5325 - val_dense_2_loss: 0.1502 - val_dense_4_loss: 0.1617 - val_dense_6_loss: 0.0863 - val_dense_8_loss: 0.0790 - val_dense_10_loss: 0.0553 - val_dense_2_acc: 0.9809 - val_dense_4_acc: 0.9814 - val_dense_6_acc: 0.9899 - val_dense_8_acc: 0.9910 - val_dense_10_acc: 0.9939\n",
      "\n",
      "Epoch 00017: ReduceLROnPlateau reducing learning rate to 0.00010737419361248613.\n",
      "\n",
      "Epoch 00017: ReduceLROnPlateau reducing learning rate to 8.589935605414213e-05.\n",
      "Epoch 18/20\n",
      "48000/48000 [==============================] - 156s 3ms/step - loss: 0.0021 - dense_2_loss: 3.8080e-04 - dense_4_loss: 6.7241e-04 - dense_6_loss: 0.0010 - dense_8_loss: 1.2415e-07 - dense_10_loss: 1.3448e-07 - dense_2_acc: 0.9999 - dense_4_acc: 1.0000 - dense_6_acc: 0.9999 - dense_8_acc: 1.0000 - dense_10_acc: 1.0000 - val_loss: 0.5439 - val_dense_2_loss: 0.1545 - val_dense_4_loss: 0.1662 - val_dense_6_loss: 0.0860 - val_dense_8_loss: 0.0811 - val_dense_10_loss: 0.0560 - val_dense_2_acc: 0.9811 - val_dense_4_acc: 0.9814 - val_dense_6_acc: 0.9901 - val_dense_8_acc: 0.9912 - val_dense_10_acc: 0.9936\n",
      "Epoch 19/20\n",
      "48000/48000 [==============================] - 156s 3ms/step - loss: 0.0020 - dense_2_loss: 3.5063e-04 - dense_4_loss: 6.7230e-04 - dense_6_loss: 0.0010 - dense_8_loss: 1.2293e-07 - dense_10_loss: 1.2812e-07 - dense_2_acc: 1.0000 - dense_4_acc: 1.0000 - dense_6_acc: 0.9999 - dense_8_acc: 1.0000 - dense_10_acc: 1.0000 - val_loss: 0.5492 - val_dense_2_loss: 0.1543 - val_dense_4_loss: 0.1692 - val_dense_6_loss: 0.0874 - val_dense_8_loss: 0.0813 - val_dense_10_loss: 0.0570 - val_dense_2_acc: 0.9815 - val_dense_4_acc: 0.9812 - val_dense_6_acc: 0.9901 - val_dense_8_acc: 0.9912 - val_dense_10_acc: 0.9939\n",
      "\n",
      "Epoch 00019: ReduceLROnPlateau reducing learning rate to 6.871948717162013e-05.\n",
      "\n",
      "Epoch 00019: ReduceLROnPlateau reducing learning rate to 5.497558740898967e-05.\n",
      "\n",
      "Epoch 00019: ReduceLROnPlateau reducing learning rate to 4.398046876303852e-05.\n",
      "Epoch 20/20\n",
      "48000/48000 [==============================] - 156s 3ms/step - loss: 0.0020 - dense_2_loss: 3.4503e-04 - dense_4_loss: 6.7188e-04 - dense_6_loss: 0.0010 - dense_8_loss: 1.2119e-07 - dense_10_loss: 1.2352e-07 - dense_2_acc: 1.0000 - dense_4_acc: 1.0000 - dense_6_acc: 0.9999 - dense_8_acc: 1.0000 - dense_10_acc: 1.0000 - val_loss: 0.5547 - val_dense_2_loss: 0.1562 - val_dense_4_loss: 0.1700 - val_dense_6_loss: 0.0886 - val_dense_8_loss: 0.0825 - val_dense_10_loss: 0.0574 - val_dense_2_acc: 0.9811 - val_dense_4_acc: 0.9815 - val_dense_6_acc: 0.9900 - val_dense_8_acc: 0.9908 - val_dense_10_acc: 0.9939\n",
      "\n",
      "Epoch 00020: ReduceLROnPlateau reducing learning rate to 3.518437442835421e-05.\n"
     ]
    },
    {
     "data": {
      "text/plain": [
       "<keras.callbacks.History at 0x217cc3ca1d0>"
      ]
     },
     "execution_count": 47,
     "metadata": {},
     "output_type": "execute_result"
    }
   ],
   "source": [
    "from keras.callbacks import ReduceLROnPlateau\n",
    "# TODO: 训练你的模型\n",
    "learnrate_reduce_1 = ReduceLROnPlateau(monitor='val_dense_2_acc', patience=2, verbose=1,factor=0.8, min_lr=0.00001)\n",
    "learnrate_reduce_2 = ReduceLROnPlateau(monitor='val_dense_4_acc', patience=2, verbose=1,factor=0.8, min_lr=0.00001)\n",
    "learnrate_reduce_3 = ReduceLROnPlateau(monitor='val_dense_6_acc', patience=2, verbose=1,factor=0.8, min_lr=0.00001)\n",
    "learnrate_reduce_4 = ReduceLROnPlateau(monitor='val_dense_8_acc', patience=2, verbose=1,factor=0.8, min_lr=0.00001)\n",
    "learnrate_reduce_5 = ReduceLROnPlateau(monitor='val_dense_10_acc', patience=2, verbose=1,factor=0.8, min_lr=0.00001)\n",
    "\n",
    "model.fit(X_train, y_train, epochs=20, batch_size=128,\n",
    "          validation_data=(X_valid, y_valid), \n",
    "         callbacks=[learnrate_reduce_1,learnrate_reduce_2,learnrate_reduce_3,learnrate_reduce_4,learnrate_reduce_5])"
   ]
  },
  {
   "cell_type": "markdown",
   "metadata": {},
   "source": [
    "### 练习：计算你的模型准确率\n",
    "\n",
    "我们刚才得到了模型每个数字的准确率，现在让我们来计算整体准确率，按照完全预测正确数字序列的标准来计算。\n",
    "\n",
    "比如 1,2,3,10,10 预测成了 1,2,10,10,10 算错，而不是算对了80%。"
   ]
  },
  {
   "cell_type": "code",
   "execution_count": 48,
   "metadata": {
    "scrolled": true
   },
   "outputs": [
    {
     "data": {
      "text/plain": [
       "0.9446"
      ]
     },
     "execution_count": 48,
     "metadata": {},
     "output_type": "execute_result"
    }
   ],
   "source": [
    "def evaluate(model):\n",
    "    # TODO: 按照错一个就算错的规则计算准确率.\n",
    "    right = 0\n",
    "    total = len(X_test)\n",
    "    result = model.predict(X_test)\n",
    "\n",
    "    for i in range(total):\n",
    "        if str(np.argmax(result[0][i])) == str(np.argmax(y_test[0][i])) \\\n",
    "                and str(np.argmax(result[1][i])) == str(np.argmax(y_test[1][i])) \\\n",
    "                and str(np.argmax(result[2][i])) == str(np.argmax(y_test[2][i])) \\\n",
    "                and str(np.argmax(result[3][i])) == str(np.argmax(y_test[3][i])) \\\n",
    "                and str(np.argmax(result[4][i])) == str(np.argmax(y_test[4][i])):\n",
    "            right += 1\n",
    "    return right / total\n",
    "    \n",
    "evaluate(model)"
   ]
  },
  {
   "cell_type": "markdown",
   "metadata": {},
   "source": [
    "### 问题 4\n",
    "\n",
    "_你的模型准确率有多少？你觉得你的模型足以解决问题吗？_\n",
    "\n",
    "**回答：**\n",
    "\n",
    "94.46%"
   ]
  },
  {
   "cell_type": "markdown",
   "metadata": {},
   "source": [
    "### 预测值可视化\n",
    "\n",
    "我们将模型的预测结果和真实值画出来，观察真实效果。"
   ]
  },
  {
   "cell_type": "code",
   "execution_count": 49,
   "metadata": {},
   "outputs": [
    {
     "data": {
      "text/plain": [
       "(-0.5, 139.5, 27.5, -0.5)"
      ]
     },
     "execution_count": 49,
     "metadata": {},
     "output_type": "execute_result"
    },
    {
     "data": {
      "image/png": "[encoded data removed]",
      "text/plain": [
       "<Figure size 432x288 with 1 Axes>"
      ]
     },
     "metadata": {
      "image/png": {
       "height": 127,
       "width": 370
      }
     },
     "output_type": "display_data"
    }
   ],
   "source": [
    "def get_result(result):\n",
    "    # 将 one_hot 编码解码\n",
    "    resultstr = ''\n",
    "    for i in range(n_len):\n",
    "        resultstr += str(np.argmax(result[i])) + ','\n",
    "    return resultstr\n",
    "\n",
    "index = random.randint(0, n_test-1)\n",
    "y_pred = model.predict(X_test[index].reshape(1, height, width*n_len, 1))\n",
    "\n",
    "plt.title('real: %s\\npred:%s'%(get_result([y_test[x][index] for x in range(n_len)]), get_result(y_pred)))\n",
    "plt.imshow(X_test[index,:,:,0], cmap='gray')\n",
    "plt.axis('off')"
   ]
  },
  {
   "cell_type": "markdown",
   "metadata": {},
   "source": [
    "### 保存模型\n",
    "\n",
    "模型达到满意的效果以后，我们需要保存模型，以便下次调用。\n",
    "\n",
    "读取的方式也很简单：`model = load_model('model.h5')`"
   ]
  },
  {
   "cell_type": "code",
   "execution_count": 50,
   "metadata": {},
   "outputs": [],
   "source": [
    "model.save('model.h5')"
   ]
  }
 ],
 "metadata": {
  "anaconda-cloud": {},
  "kernelspec": {
   "display_name": "Python 3",
   "language": "python",
   "name": "python3"
  },
  "language_info": {
   "codemirror_mode": {
    "name": "ipython",
    "version": 3
   },
   "file_extension": ".py",
   "mimetype": "text/x-python",
   "name": "python",
   "nbconvert_exporter": "python",
   "pygments_lexer": "ipython3",
   "version": "3.6.5"
  }
 },
 "nbformat": 4,
 "nbformat_minor": 1
}
